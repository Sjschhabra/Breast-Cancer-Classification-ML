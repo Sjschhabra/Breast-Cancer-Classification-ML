{
 "cells": [
  {
   "cell_type": "markdown",
   "id": "9982d048",
   "metadata": {
    "papermill": {
     "duration": 0.007821,
     "end_time": "2024-02-24T20:47:14.102903",
     "exception": false,
     "start_time": "2024-02-24T20:47:14.095082",
     "status": "completed"
    },
    "tags": []
   },
   "source": [
    "# Importing libraries"
   ]
  },
  {
   "cell_type": "code",
   "execution_count": 22,
   "id": "2760f196",
   "metadata": {
    "execution": {
     "iopub.execute_input": "2024-02-24T20:47:14.120639Z",
     "iopub.status.busy": "2024-02-24T20:47:14.119911Z",
     "iopub.status.idle": "2024-02-24T20:47:32.759558Z",
     "shell.execute_reply": "2024-02-24T20:47:32.758225Z"
    },
    "papermill": {
     "duration": 18.652397,
     "end_time": "2024-02-24T20:47:32.762582",
     "exception": false,
     "start_time": "2024-02-24T20:47:14.110185",
     "status": "completed"
    },
    "tags": []
   },
   "outputs": [],
   "source": [
    "import numpy as np\n",
    "import pandas as pd\n",
    "import matplotlib.pyplot as plt\n",
    "import seaborn as sns\n",
    "\n",
    "from tensorflow.keras.models import Sequential\n",
    "from tensorflow.keras.layers import Dense\n",
    "from sklearn.model_selection import train_test_split\n",
    "from sklearn.preprocessing import MinMaxScaler\n",
    "from sklearn.preprocessing import LabelEncoder\n",
    "from sklearn.metrics import confusion_matrix\n",
    "import warnings\n",
    "warnings.filterwarnings(\"ignore\")\n"
   ]
  },
  {
   "cell_type": "markdown",
   "id": "8fdb21df",
   "metadata": {
    "papermill": {
     "duration": 0.006413,
     "end_time": "2024-02-24T20:47:32.776073",
     "exception": false,
     "start_time": "2024-02-24T20:47:32.769660",
     "status": "completed"
    },
    "tags": []
   },
   "source": [
    "# Preprocessing"
   ]
  },
  {
   "cell_type": "code",
   "execution_count": 23,
   "id": "745d64b4",
   "metadata": {
    "execution": {
     "iopub.execute_input": "2024-02-24T20:47:32.792470Z",
     "iopub.status.busy": "2024-02-24T20:47:32.791621Z",
     "iopub.status.idle": "2024-02-24T20:47:32.867163Z",
     "shell.execute_reply": "2024-02-24T20:47:32.865681Z"
    },
    "papermill": {
     "duration": 0.086961,
     "end_time": "2024-02-24T20:47:32.869767",
     "exception": false,
     "start_time": "2024-02-24T20:47:32.782806",
     "status": "completed"
    },
    "tags": []
   },
   "outputs": [
    {
     "data": {
      "text/html": [
       "<div>\n",
       "<style scoped>\n",
       "    .dataframe tbody tr th:only-of-type {\n",
       "        vertical-align: middle;\n",
       "    }\n",
       "\n",
       "    .dataframe tbody tr th {\n",
       "        vertical-align: top;\n",
       "    }\n",
       "\n",
       "    .dataframe thead th {\n",
       "        text-align: right;\n",
       "    }\n",
       "</style>\n",
       "<table border=\"1\" class=\"dataframe\">\n",
       "  <thead>\n",
       "    <tr style=\"text-align: right;\">\n",
       "      <th></th>\n",
       "      <th>id</th>\n",
       "      <th>diagnosis</th>\n",
       "      <th>radius_mean</th>\n",
       "      <th>texture_mean</th>\n",
       "      <th>perimeter_mean</th>\n",
       "      <th>area_mean</th>\n",
       "      <th>smoothness_mean</th>\n",
       "      <th>compactness_mean</th>\n",
       "      <th>concavity_mean</th>\n",
       "      <th>concave points_mean</th>\n",
       "      <th>...</th>\n",
       "      <th>texture_worst</th>\n",
       "      <th>perimeter_worst</th>\n",
       "      <th>area_worst</th>\n",
       "      <th>smoothness_worst</th>\n",
       "      <th>compactness_worst</th>\n",
       "      <th>concavity_worst</th>\n",
       "      <th>concave points_worst</th>\n",
       "      <th>symmetry_worst</th>\n",
       "      <th>fractal_dimension_worst</th>\n",
       "      <th>Unnamed: 32</th>\n",
       "    </tr>\n",
       "  </thead>\n",
       "  <tbody>\n",
       "    <tr>\n",
       "      <th>0</th>\n",
       "      <td>842302</td>\n",
       "      <td>M</td>\n",
       "      <td>17.99</td>\n",
       "      <td>10.38</td>\n",
       "      <td>122.80</td>\n",
       "      <td>1001.0</td>\n",
       "      <td>0.11840</td>\n",
       "      <td>0.27760</td>\n",
       "      <td>0.30010</td>\n",
       "      <td>0.14710</td>\n",
       "      <td>...</td>\n",
       "      <td>17.33</td>\n",
       "      <td>184.60</td>\n",
       "      <td>2019.0</td>\n",
       "      <td>0.16220</td>\n",
       "      <td>0.66560</td>\n",
       "      <td>0.7119</td>\n",
       "      <td>0.2654</td>\n",
       "      <td>0.4601</td>\n",
       "      <td>0.11890</td>\n",
       "      <td>NaN</td>\n",
       "    </tr>\n",
       "    <tr>\n",
       "      <th>1</th>\n",
       "      <td>842517</td>\n",
       "      <td>M</td>\n",
       "      <td>20.57</td>\n",
       "      <td>17.77</td>\n",
       "      <td>132.90</td>\n",
       "      <td>1326.0</td>\n",
       "      <td>0.08474</td>\n",
       "      <td>0.07864</td>\n",
       "      <td>0.08690</td>\n",
       "      <td>0.07017</td>\n",
       "      <td>...</td>\n",
       "      <td>23.41</td>\n",
       "      <td>158.80</td>\n",
       "      <td>1956.0</td>\n",
       "      <td>0.12380</td>\n",
       "      <td>0.18660</td>\n",
       "      <td>0.2416</td>\n",
       "      <td>0.1860</td>\n",
       "      <td>0.2750</td>\n",
       "      <td>0.08902</td>\n",
       "      <td>NaN</td>\n",
       "    </tr>\n",
       "    <tr>\n",
       "      <th>2</th>\n",
       "      <td>84300903</td>\n",
       "      <td>M</td>\n",
       "      <td>19.69</td>\n",
       "      <td>21.25</td>\n",
       "      <td>130.00</td>\n",
       "      <td>1203.0</td>\n",
       "      <td>0.10960</td>\n",
       "      <td>0.15990</td>\n",
       "      <td>0.19740</td>\n",
       "      <td>0.12790</td>\n",
       "      <td>...</td>\n",
       "      <td>25.53</td>\n",
       "      <td>152.50</td>\n",
       "      <td>1709.0</td>\n",
       "      <td>0.14440</td>\n",
       "      <td>0.42450</td>\n",
       "      <td>0.4504</td>\n",
       "      <td>0.2430</td>\n",
       "      <td>0.3613</td>\n",
       "      <td>0.08758</td>\n",
       "      <td>NaN</td>\n",
       "    </tr>\n",
       "    <tr>\n",
       "      <th>3</th>\n",
       "      <td>84348301</td>\n",
       "      <td>M</td>\n",
       "      <td>11.42</td>\n",
       "      <td>20.38</td>\n",
       "      <td>77.58</td>\n",
       "      <td>386.1</td>\n",
       "      <td>0.14250</td>\n",
       "      <td>0.28390</td>\n",
       "      <td>0.24140</td>\n",
       "      <td>0.10520</td>\n",
       "      <td>...</td>\n",
       "      <td>26.50</td>\n",
       "      <td>98.87</td>\n",
       "      <td>567.7</td>\n",
       "      <td>0.20980</td>\n",
       "      <td>0.86630</td>\n",
       "      <td>0.6869</td>\n",
       "      <td>0.2575</td>\n",
       "      <td>0.6638</td>\n",
       "      <td>0.17300</td>\n",
       "      <td>NaN</td>\n",
       "    </tr>\n",
       "    <tr>\n",
       "      <th>4</th>\n",
       "      <td>84358402</td>\n",
       "      <td>M</td>\n",
       "      <td>20.29</td>\n",
       "      <td>14.34</td>\n",
       "      <td>135.10</td>\n",
       "      <td>1297.0</td>\n",
       "      <td>0.10030</td>\n",
       "      <td>0.13280</td>\n",
       "      <td>0.19800</td>\n",
       "      <td>0.10430</td>\n",
       "      <td>...</td>\n",
       "      <td>16.67</td>\n",
       "      <td>152.20</td>\n",
       "      <td>1575.0</td>\n",
       "      <td>0.13740</td>\n",
       "      <td>0.20500</td>\n",
       "      <td>0.4000</td>\n",
       "      <td>0.1625</td>\n",
       "      <td>0.2364</td>\n",
       "      <td>0.07678</td>\n",
       "      <td>NaN</td>\n",
       "    </tr>\n",
       "    <tr>\n",
       "      <th>...</th>\n",
       "      <td>...</td>\n",
       "      <td>...</td>\n",
       "      <td>...</td>\n",
       "      <td>...</td>\n",
       "      <td>...</td>\n",
       "      <td>...</td>\n",
       "      <td>...</td>\n",
       "      <td>...</td>\n",
       "      <td>...</td>\n",
       "      <td>...</td>\n",
       "      <td>...</td>\n",
       "      <td>...</td>\n",
       "      <td>...</td>\n",
       "      <td>...</td>\n",
       "      <td>...</td>\n",
       "      <td>...</td>\n",
       "      <td>...</td>\n",
       "      <td>...</td>\n",
       "      <td>...</td>\n",
       "      <td>...</td>\n",
       "      <td>...</td>\n",
       "    </tr>\n",
       "    <tr>\n",
       "      <th>564</th>\n",
       "      <td>926424</td>\n",
       "      <td>M</td>\n",
       "      <td>21.56</td>\n",
       "      <td>22.39</td>\n",
       "      <td>142.00</td>\n",
       "      <td>1479.0</td>\n",
       "      <td>0.11100</td>\n",
       "      <td>0.11590</td>\n",
       "      <td>0.24390</td>\n",
       "      <td>0.13890</td>\n",
       "      <td>...</td>\n",
       "      <td>26.40</td>\n",
       "      <td>166.10</td>\n",
       "      <td>2027.0</td>\n",
       "      <td>0.14100</td>\n",
       "      <td>0.21130</td>\n",
       "      <td>0.4107</td>\n",
       "      <td>0.2216</td>\n",
       "      <td>0.2060</td>\n",
       "      <td>0.07115</td>\n",
       "      <td>NaN</td>\n",
       "    </tr>\n",
       "    <tr>\n",
       "      <th>565</th>\n",
       "      <td>926682</td>\n",
       "      <td>M</td>\n",
       "      <td>20.13</td>\n",
       "      <td>28.25</td>\n",
       "      <td>131.20</td>\n",
       "      <td>1261.0</td>\n",
       "      <td>0.09780</td>\n",
       "      <td>0.10340</td>\n",
       "      <td>0.14400</td>\n",
       "      <td>0.09791</td>\n",
       "      <td>...</td>\n",
       "      <td>38.25</td>\n",
       "      <td>155.00</td>\n",
       "      <td>1731.0</td>\n",
       "      <td>0.11660</td>\n",
       "      <td>0.19220</td>\n",
       "      <td>0.3215</td>\n",
       "      <td>0.1628</td>\n",
       "      <td>0.2572</td>\n",
       "      <td>0.06637</td>\n",
       "      <td>NaN</td>\n",
       "    </tr>\n",
       "    <tr>\n",
       "      <th>566</th>\n",
       "      <td>926954</td>\n",
       "      <td>M</td>\n",
       "      <td>16.60</td>\n",
       "      <td>28.08</td>\n",
       "      <td>108.30</td>\n",
       "      <td>858.1</td>\n",
       "      <td>0.08455</td>\n",
       "      <td>0.10230</td>\n",
       "      <td>0.09251</td>\n",
       "      <td>0.05302</td>\n",
       "      <td>...</td>\n",
       "      <td>34.12</td>\n",
       "      <td>126.70</td>\n",
       "      <td>1124.0</td>\n",
       "      <td>0.11390</td>\n",
       "      <td>0.30940</td>\n",
       "      <td>0.3403</td>\n",
       "      <td>0.1418</td>\n",
       "      <td>0.2218</td>\n",
       "      <td>0.07820</td>\n",
       "      <td>NaN</td>\n",
       "    </tr>\n",
       "    <tr>\n",
       "      <th>567</th>\n",
       "      <td>927241</td>\n",
       "      <td>M</td>\n",
       "      <td>20.60</td>\n",
       "      <td>29.33</td>\n",
       "      <td>140.10</td>\n",
       "      <td>1265.0</td>\n",
       "      <td>0.11780</td>\n",
       "      <td>0.27700</td>\n",
       "      <td>0.35140</td>\n",
       "      <td>0.15200</td>\n",
       "      <td>...</td>\n",
       "      <td>39.42</td>\n",
       "      <td>184.60</td>\n",
       "      <td>1821.0</td>\n",
       "      <td>0.16500</td>\n",
       "      <td>0.86810</td>\n",
       "      <td>0.9387</td>\n",
       "      <td>0.2650</td>\n",
       "      <td>0.4087</td>\n",
       "      <td>0.12400</td>\n",
       "      <td>NaN</td>\n",
       "    </tr>\n",
       "    <tr>\n",
       "      <th>568</th>\n",
       "      <td>92751</td>\n",
       "      <td>B</td>\n",
       "      <td>7.76</td>\n",
       "      <td>24.54</td>\n",
       "      <td>47.92</td>\n",
       "      <td>181.0</td>\n",
       "      <td>0.05263</td>\n",
       "      <td>0.04362</td>\n",
       "      <td>0.00000</td>\n",
       "      <td>0.00000</td>\n",
       "      <td>...</td>\n",
       "      <td>30.37</td>\n",
       "      <td>59.16</td>\n",
       "      <td>268.6</td>\n",
       "      <td>0.08996</td>\n",
       "      <td>0.06444</td>\n",
       "      <td>0.0000</td>\n",
       "      <td>0.0000</td>\n",
       "      <td>0.2871</td>\n",
       "      <td>0.07039</td>\n",
       "      <td>NaN</td>\n",
       "    </tr>\n",
       "  </tbody>\n",
       "</table>\n",
       "<p>569 rows × 33 columns</p>\n",
       "</div>"
      ],
      "text/plain": [
       "           id diagnosis  radius_mean  texture_mean  perimeter_mean  area_mean  \\\n",
       "0      842302         M        17.99         10.38          122.80     1001.0   \n",
       "1      842517         M        20.57         17.77          132.90     1326.0   \n",
       "2    84300903         M        19.69         21.25          130.00     1203.0   \n",
       "3    84348301         M        11.42         20.38           77.58      386.1   \n",
       "4    84358402         M        20.29         14.34          135.10     1297.0   \n",
       "..        ...       ...          ...           ...             ...        ...   \n",
       "564    926424         M        21.56         22.39          142.00     1479.0   \n",
       "565    926682         M        20.13         28.25          131.20     1261.0   \n",
       "566    926954         M        16.60         28.08          108.30      858.1   \n",
       "567    927241         M        20.60         29.33          140.10     1265.0   \n",
       "568     92751         B         7.76         24.54           47.92      181.0   \n",
       "\n",
       "     smoothness_mean  compactness_mean  concavity_mean  concave points_mean  \\\n",
       "0            0.11840           0.27760         0.30010              0.14710   \n",
       "1            0.08474           0.07864         0.08690              0.07017   \n",
       "2            0.10960           0.15990         0.19740              0.12790   \n",
       "3            0.14250           0.28390         0.24140              0.10520   \n",
       "4            0.10030           0.13280         0.19800              0.10430   \n",
       "..               ...               ...             ...                  ...   \n",
       "564          0.11100           0.11590         0.24390              0.13890   \n",
       "565          0.09780           0.10340         0.14400              0.09791   \n",
       "566          0.08455           0.10230         0.09251              0.05302   \n",
       "567          0.11780           0.27700         0.35140              0.15200   \n",
       "568          0.05263           0.04362         0.00000              0.00000   \n",
       "\n",
       "     ...  texture_worst  perimeter_worst  area_worst  smoothness_worst  \\\n",
       "0    ...          17.33           184.60      2019.0           0.16220   \n",
       "1    ...          23.41           158.80      1956.0           0.12380   \n",
       "2    ...          25.53           152.50      1709.0           0.14440   \n",
       "3    ...          26.50            98.87       567.7           0.20980   \n",
       "4    ...          16.67           152.20      1575.0           0.13740   \n",
       "..   ...            ...              ...         ...               ...   \n",
       "564  ...          26.40           166.10      2027.0           0.14100   \n",
       "565  ...          38.25           155.00      1731.0           0.11660   \n",
       "566  ...          34.12           126.70      1124.0           0.11390   \n",
       "567  ...          39.42           184.60      1821.0           0.16500   \n",
       "568  ...          30.37            59.16       268.6           0.08996   \n",
       "\n",
       "     compactness_worst  concavity_worst  concave points_worst  symmetry_worst  \\\n",
       "0              0.66560           0.7119                0.2654          0.4601   \n",
       "1              0.18660           0.2416                0.1860          0.2750   \n",
       "2              0.42450           0.4504                0.2430          0.3613   \n",
       "3              0.86630           0.6869                0.2575          0.6638   \n",
       "4              0.20500           0.4000                0.1625          0.2364   \n",
       "..                 ...              ...                   ...             ...   \n",
       "564            0.21130           0.4107                0.2216          0.2060   \n",
       "565            0.19220           0.3215                0.1628          0.2572   \n",
       "566            0.30940           0.3403                0.1418          0.2218   \n",
       "567            0.86810           0.9387                0.2650          0.4087   \n",
       "568            0.06444           0.0000                0.0000          0.2871   \n",
       "\n",
       "     fractal_dimension_worst  Unnamed: 32  \n",
       "0                    0.11890          NaN  \n",
       "1                    0.08902          NaN  \n",
       "2                    0.08758          NaN  \n",
       "3                    0.17300          NaN  \n",
       "4                    0.07678          NaN  \n",
       "..                       ...          ...  \n",
       "564                  0.07115          NaN  \n",
       "565                  0.06637          NaN  \n",
       "566                  0.07820          NaN  \n",
       "567                  0.12400          NaN  \n",
       "568                  0.07039          NaN  \n",
       "\n",
       "[569 rows x 33 columns]"
      ]
     },
     "execution_count": 23,
     "metadata": {},
     "output_type": "execute_result"
    }
   ],
   "source": [
    "data = pd.read_csv('data.csv')\n",
    "data"
   ]
  },
  {
   "cell_type": "code",
   "execution_count": 24,
   "id": "aef39e72",
   "metadata": {
    "execution": {
     "iopub.execute_input": "2024-02-24T20:47:32.887027Z",
     "iopub.status.busy": "2024-02-24T20:47:32.886585Z",
     "iopub.status.idle": "2024-02-24T20:47:32.913920Z",
     "shell.execute_reply": "2024-02-24T20:47:32.913049Z"
    },
    "papermill": {
     "duration": 0.040301,
     "end_time": "2024-02-24T20:47:32.917598",
     "exception": false,
     "start_time": "2024-02-24T20:47:32.877297",
     "status": "completed"
    },
    "tags": []
   },
   "outputs": [
    {
     "name": "stdout",
     "output_type": "stream",
     "text": [
      "<class 'pandas.core.frame.DataFrame'>\n",
      "RangeIndex: 569 entries, 0 to 568\n",
      "Data columns (total 33 columns):\n",
      " #   Column                   Non-Null Count  Dtype  \n",
      "---  ------                   --------------  -----  \n",
      " 0   id                       569 non-null    int64  \n",
      " 1   diagnosis                569 non-null    object \n",
      " 2   radius_mean              569 non-null    float64\n",
      " 3   texture_mean             569 non-null    float64\n",
      " 4   perimeter_mean           569 non-null    float64\n",
      " 5   area_mean                569 non-null    float64\n",
      " 6   smoothness_mean          569 non-null    float64\n",
      " 7   compactness_mean         569 non-null    float64\n",
      " 8   concavity_mean           569 non-null    float64\n",
      " 9   concave points_mean      569 non-null    float64\n",
      " 10  symmetry_mean            569 non-null    float64\n",
      " 11  fractal_dimension_mean   569 non-null    float64\n",
      " 12  radius_se                569 non-null    float64\n",
      " 13  texture_se               569 non-null    float64\n",
      " 14  perimeter_se             569 non-null    float64\n",
      " 15  area_se                  569 non-null    float64\n",
      " 16  smoothness_se            569 non-null    float64\n",
      " 17  compactness_se           569 non-null    float64\n",
      " 18  concavity_se             569 non-null    float64\n",
      " 19  concave points_se        569 non-null    float64\n",
      " 20  symmetry_se              569 non-null    float64\n",
      " 21  fractal_dimension_se     569 non-null    float64\n",
      " 22  radius_worst             569 non-null    float64\n",
      " 23  texture_worst            569 non-null    float64\n",
      " 24  perimeter_worst          569 non-null    float64\n",
      " 25  area_worst               569 non-null    float64\n",
      " 26  smoothness_worst         569 non-null    float64\n",
      " 27  compactness_worst        569 non-null    float64\n",
      " 28  concavity_worst          569 non-null    float64\n",
      " 29  concave points_worst     569 non-null    float64\n",
      " 30  symmetry_worst           569 non-null    float64\n",
      " 31  fractal_dimension_worst  569 non-null    float64\n",
      " 32  Unnamed: 32              0 non-null      float64\n",
      "dtypes: float64(31), int64(1), object(1)\n",
      "memory usage: 146.8+ KB\n"
     ]
    }
   ],
   "source": [
    "data.info()"
   ]
  },
  {
   "cell_type": "code",
   "execution_count": 25,
   "id": "44a96af8",
   "metadata": {
    "execution": {
     "iopub.execute_input": "2024-02-24T20:47:32.935349Z",
     "iopub.status.busy": "2024-02-24T20:47:32.934947Z",
     "iopub.status.idle": "2024-02-24T20:47:32.945311Z",
     "shell.execute_reply": "2024-02-24T20:47:32.944024Z"
    },
    "papermill": {
     "duration": 0.022273,
     "end_time": "2024-02-24T20:47:32.947931",
     "exception": false,
     "start_time": "2024-02-24T20:47:32.925658",
     "status": "completed"
    },
    "tags": []
   },
   "outputs": [
    {
     "data": {
      "text/plain": [
       "diagnosis\n",
       "B    357\n",
       "M    212\n",
       "Name: count, dtype: int64"
      ]
     },
     "execution_count": 25,
     "metadata": {},
     "output_type": "execute_result"
    }
   ],
   "source": [
    "data['diagnosis'].value_counts()"
   ]
  },
  {
   "cell_type": "code",
   "execution_count": 26,
   "id": "108ede6f",
   "metadata": {
    "execution": {
     "iopub.execute_input": "2024-02-24T20:47:32.966260Z",
     "iopub.status.busy": "2024-02-24T20:47:32.965880Z",
     "iopub.status.idle": "2024-02-24T20:47:32.973102Z",
     "shell.execute_reply": "2024-02-24T20:47:32.971691Z"
    },
    "papermill": {
     "duration": 0.019221,
     "end_time": "2024-02-24T20:47:32.975700",
     "exception": false,
     "start_time": "2024-02-24T20:47:32.956479",
     "status": "completed"
    },
    "tags": []
   },
   "outputs": [],
   "source": [
    "# no null data the columns (unnamed,id) are not important \n",
    "# the columns (unnamed,id) are not important so let's drop them\n",
    "data.drop(columns=['id', 'Unnamed: 32'], inplace=True)"
   ]
  },
  {
   "cell_type": "code",
   "execution_count": 27,
   "id": "be4c01e1",
   "metadata": {
    "execution": {
     "iopub.execute_input": "2024-02-24T20:47:32.993604Z",
     "iopub.status.busy": "2024-02-24T20:47:32.993207Z",
     "iopub.status.idle": "2024-02-24T20:47:32.999552Z",
     "shell.execute_reply": "2024-02-24T20:47:32.998594Z"
    },
    "papermill": {
     "duration": 0.018269,
     "end_time": "2024-02-24T20:47:33.002104",
     "exception": false,
     "start_time": "2024-02-24T20:47:32.983835",
     "status": "completed"
    },
    "tags": []
   },
   "outputs": [],
   "source": [
    "X = data.drop(columns=['diagnosis'])\n",
    "y = data['diagnosis']"
   ]
  },
  {
   "cell_type": "code",
   "execution_count": 28,
   "id": "c14af917",
   "metadata": {
    "execution": {
     "iopub.execute_input": "2024-02-24T20:47:33.020865Z",
     "iopub.status.busy": "2024-02-24T20:47:33.020425Z",
     "iopub.status.idle": "2024-02-24T20:47:33.029350Z",
     "shell.execute_reply": "2024-02-24T20:47:33.028473Z"
    },
    "papermill": {
     "duration": 0.020725,
     "end_time": "2024-02-24T20:47:33.031540",
     "exception": false,
     "start_time": "2024-02-24T20:47:33.010815",
     "status": "completed"
    },
    "tags": []
   },
   "outputs": [],
   "source": [
    "scaler = MinMaxScaler() # max value = 1 , min value = 0 \n",
    "X = scaler.fit_transform(X)"
   ]
  },
  {
   "cell_type": "code",
   "execution_count": 29,
   "id": "72fd857f",
   "metadata": {
    "execution": {
     "iopub.execute_input": "2024-02-24T20:47:33.049722Z",
     "iopub.status.busy": "2024-02-24T20:47:33.049221Z",
     "iopub.status.idle": "2024-02-24T20:47:33.055223Z",
     "shell.execute_reply": "2024-02-24T20:47:33.053853Z"
    },
    "papermill": {
     "duration": 0.018206,
     "end_time": "2024-02-24T20:47:33.057902",
     "exception": false,
     "start_time": "2024-02-24T20:47:33.039696",
     "status": "completed"
    },
    "tags": []
   },
   "outputs": [],
   "source": [
    "encoder = LabelEncoder()\n",
    "y = encoder.fit_transform(y)"
   ]
  },
  {
   "cell_type": "markdown",
   "id": "23b9e856",
   "metadata": {
    "papermill": {
     "duration": 0.007822,
     "end_time": "2024-02-24T20:47:33.074448",
     "exception": false,
     "start_time": "2024-02-24T20:47:33.066626",
     "status": "completed"
    },
    "tags": []
   },
   "source": [
    "# Split data into train 80% and test 20% "
   ]
  },
  {
   "cell_type": "code",
   "execution_count": 30,
   "id": "d1d26551",
   "metadata": {
    "execution": {
     "iopub.execute_input": "2024-02-24T20:47:33.093250Z",
     "iopub.status.busy": "2024-02-24T20:47:33.092091Z",
     "iopub.status.idle": "2024-02-24T20:47:33.098044Z",
     "shell.execute_reply": "2024-02-24T20:47:33.096831Z"
    },
    "papermill": {
     "duration": 0.018003,
     "end_time": "2024-02-24T20:47:33.100569",
     "exception": false,
     "start_time": "2024-02-24T20:47:33.082566",
     "status": "completed"
    },
    "tags": []
   },
   "outputs": [],
   "source": [
    "X_train, X_test, y_train, y_test = train_test_split(X, y, train_size=0.8, shuffle=True)\n"
   ]
  },
  {
   "cell_type": "markdown",
   "id": "a9ecd0ed",
   "metadata": {
    "papermill": {
     "duration": 0.008957,
     "end_time": "2024-02-24T20:47:33.117593",
     "exception": false,
     "start_time": "2024-02-24T20:47:33.108636",
     "status": "completed"
    },
    "tags": []
   },
   "source": [
    "# Model"
   ]
  },
  {
   "cell_type": "code",
   "execution_count": 31,
   "id": "bfab2845",
   "metadata": {
    "execution": {
     "iopub.execute_input": "2024-02-24T20:47:33.135720Z",
     "iopub.status.busy": "2024-02-24T20:47:33.135299Z",
     "iopub.status.idle": "2024-02-24T20:47:33.339671Z",
     "shell.execute_reply": "2024-02-24T20:47:33.338176Z"
    },
    "papermill": {
     "duration": 0.221651,
     "end_time": "2024-02-24T20:47:33.347287",
     "exception": false,
     "start_time": "2024-02-24T20:47:33.125636",
     "status": "completed"
    },
    "tags": []
   },
   "outputs": [
    {
     "name": "stdout",
     "output_type": "stream",
     "text": [
      "Model: \"sequential_1\"\n",
      "_________________________________________________________________\n",
      " Layer (type)                Output Shape              Param #   \n",
      "=================================================================\n",
      " dense_4 (Dense)             (None, 32)                992       \n",
      "                                                                 \n",
      " dense_5 (Dense)             (None, 16)                528       \n",
      "                                                                 \n",
      " dense_6 (Dense)             (None, 8)                 136       \n",
      "                                                                 \n",
      " dense_7 (Dense)             (None, 1)                 9         \n",
      "                                                                 \n",
      "=================================================================\n",
      "Total params: 1665 (6.50 KB)\n",
      "Trainable params: 1665 (6.50 KB)\n",
      "Non-trainable params: 0 (0.00 Byte)\n",
      "_________________________________________________________________\n"
     ]
    }
   ],
   "source": [
    "model = Sequential([\n",
    "    Dense(32, activation='relu', input_dim=30),\n",
    "    \n",
    "    Dense(16, activation='relu'),\n",
    "    \n",
    "    Dense(8, activation='relu'),\n",
    "    \n",
    "    Dense(1, activation='sigmoid')\n",
    "])\n",
    "\n",
    "model.compile(optimizer='adam', loss='binary_crossentropy', metrics=['accuracy'])\n",
    "model.summary()"
   ]
  },
  {
   "cell_type": "code",
   "execution_count": 32,
   "id": "d0c65217",
   "metadata": {
    "execution": {
     "iopub.execute_input": "2024-02-24T20:47:33.369410Z",
     "iopub.status.busy": "2024-02-24T20:47:33.369009Z",
     "iopub.status.idle": "2024-02-24T20:47:44.828144Z",
     "shell.execute_reply": "2024-02-24T20:47:44.826957Z"
    },
    "papermill": {
     "duration": 11.474046,
     "end_time": "2024-02-24T20:47:44.831085",
     "exception": false,
     "start_time": "2024-02-24T20:47:33.357039",
     "status": "completed"
    },
    "tags": []
   },
   "outputs": [
    {
     "name": "stdout",
     "output_type": "stream",
     "text": [
      "Epoch 1/100\n",
      "12/12 [==============================] - 2s 39ms/step - loss: 0.6952 - accuracy: 0.3709 - val_loss: 0.6782 - val_accuracy: 0.5495\n",
      "Epoch 2/100\n",
      "12/12 [==============================] - 0s 12ms/step - loss: 0.6743 - accuracy: 0.6484 - val_loss: 0.6602 - val_accuracy: 0.8352\n",
      "Epoch 3/100\n",
      "12/12 [==============================] - 0s 12ms/step - loss: 0.6541 - accuracy: 0.8599 - val_loss: 0.6411 - val_accuracy: 0.9231\n",
      "Epoch 4/100\n",
      "12/12 [==============================] - 0s 10ms/step - loss: 0.6299 - accuracy: 0.9038 - val_loss: 0.6148 - val_accuracy: 0.9121\n",
      "Epoch 5/100\n",
      "12/12 [==============================] - 0s 8ms/step - loss: 0.5970 - accuracy: 0.9203 - val_loss: 0.5757 - val_accuracy: 0.9231\n",
      "Epoch 6/100\n",
      "12/12 [==============================] - 0s 9ms/step - loss: 0.5525 - accuracy: 0.9066 - val_loss: 0.5299 - val_accuracy: 0.8681\n",
      "Epoch 7/100\n",
      "12/12 [==============================] - 0s 9ms/step - loss: 0.4994 - accuracy: 0.9121 - val_loss: 0.4818 - val_accuracy: 0.8791\n",
      "Epoch 8/100\n",
      "12/12 [==============================] - 0s 9ms/step - loss: 0.4431 - accuracy: 0.9148 - val_loss: 0.4301 - val_accuracy: 0.8901\n",
      "Epoch 9/100\n",
      "12/12 [==============================] - 0s 9ms/step - loss: 0.3865 - accuracy: 0.9176 - val_loss: 0.3821 - val_accuracy: 0.8901\n",
      "Epoch 10/100\n",
      "12/12 [==============================] - 0s 11ms/step - loss: 0.3346 - accuracy: 0.9313 - val_loss: 0.3381 - val_accuracy: 0.8901\n",
      "Epoch 11/100\n",
      "12/12 [==============================] - 0s 12ms/step - loss: 0.2885 - accuracy: 0.9258 - val_loss: 0.3067 - val_accuracy: 0.8901\n",
      "Epoch 12/100\n",
      "12/12 [==============================] - 0s 11ms/step - loss: 0.2511 - accuracy: 0.9313 - val_loss: 0.2858 - val_accuracy: 0.9121\n",
      "Epoch 13/100\n",
      "12/12 [==============================] - 0s 22ms/step - loss: 0.2246 - accuracy: 0.9231 - val_loss: 0.2673 - val_accuracy: 0.9121\n",
      "Epoch 14/100\n",
      "12/12 [==============================] - 0s 16ms/step - loss: 0.2019 - accuracy: 0.9368 - val_loss: 0.2462 - val_accuracy: 0.8901\n",
      "Epoch 15/100\n",
      "12/12 [==============================] - 0s 12ms/step - loss: 0.1843 - accuracy: 0.9368 - val_loss: 0.2337 - val_accuracy: 0.8901\n",
      "Epoch 16/100\n",
      "12/12 [==============================] - 0s 10ms/step - loss: 0.1736 - accuracy: 0.9451 - val_loss: 0.2540 - val_accuracy: 0.9121\n",
      "Epoch 17/100\n",
      "12/12 [==============================] - 0s 7ms/step - loss: 0.1688 - accuracy: 0.9286 - val_loss: 0.2133 - val_accuracy: 0.8901\n",
      "Epoch 18/100\n",
      "12/12 [==============================] - 0s 8ms/step - loss: 0.1570 - accuracy: 0.9368 - val_loss: 0.2188 - val_accuracy: 0.9121\n",
      "Epoch 19/100\n",
      "12/12 [==============================] - 0s 10ms/step - loss: 0.1442 - accuracy: 0.9478 - val_loss: 0.2168 - val_accuracy: 0.9121\n",
      "Epoch 20/100\n",
      "12/12 [==============================] - 0s 8ms/step - loss: 0.1374 - accuracy: 0.9505 - val_loss: 0.2043 - val_accuracy: 0.9121\n",
      "Epoch 21/100\n",
      "12/12 [==============================] - 0s 11ms/step - loss: 0.1361 - accuracy: 0.9505 - val_loss: 0.2126 - val_accuracy: 0.9121\n",
      "Epoch 22/100\n",
      "12/12 [==============================] - 0s 12ms/step - loss: 0.1282 - accuracy: 0.9505 - val_loss: 0.1901 - val_accuracy: 0.9231\n",
      "Epoch 23/100\n",
      "12/12 [==============================] - 0s 15ms/step - loss: 0.1240 - accuracy: 0.9478 - val_loss: 0.2055 - val_accuracy: 0.9121\n",
      "Epoch 24/100\n",
      "12/12 [==============================] - 0s 10ms/step - loss: 0.1144 - accuracy: 0.9615 - val_loss: 0.1885 - val_accuracy: 0.9231\n",
      "Epoch 25/100\n",
      "12/12 [==============================] - 0s 8ms/step - loss: 0.1106 - accuracy: 0.9588 - val_loss: 0.1985 - val_accuracy: 0.9121\n",
      "Epoch 26/100\n",
      "12/12 [==============================] - 0s 7ms/step - loss: 0.1092 - accuracy: 0.9615 - val_loss: 0.1839 - val_accuracy: 0.9231\n",
      "Epoch 27/100\n",
      "12/12 [==============================] - 0s 6ms/step - loss: 0.1040 - accuracy: 0.9643 - val_loss: 0.1880 - val_accuracy: 0.9231\n",
      "Epoch 28/100\n",
      "12/12 [==============================] - 0s 6ms/step - loss: 0.1017 - accuracy: 0.9643 - val_loss: 0.1768 - val_accuracy: 0.9231\n",
      "Epoch 29/100\n",
      "12/12 [==============================] - 0s 8ms/step - loss: 0.1008 - accuracy: 0.9615 - val_loss: 0.1925 - val_accuracy: 0.9231\n",
      "Epoch 30/100\n",
      "12/12 [==============================] - 0s 9ms/step - loss: 0.0955 - accuracy: 0.9698 - val_loss: 0.1670 - val_accuracy: 0.9341\n",
      "Epoch 31/100\n",
      "12/12 [==============================] - 0s 7ms/step - loss: 0.0970 - accuracy: 0.9670 - val_loss: 0.1775 - val_accuracy: 0.9341\n",
      "Epoch 32/100\n",
      "12/12 [==============================] - 0s 8ms/step - loss: 0.0992 - accuracy: 0.9533 - val_loss: 0.1688 - val_accuracy: 0.9341\n",
      "Epoch 33/100\n",
      "12/12 [==============================] - 0s 8ms/step - loss: 0.1002 - accuracy: 0.9560 - val_loss: 0.1712 - val_accuracy: 0.9341\n",
      "Epoch 34/100\n",
      "12/12 [==============================] - 0s 7ms/step - loss: 0.0996 - accuracy: 0.9643 - val_loss: 0.1626 - val_accuracy: 0.9341\n",
      "Epoch 35/100\n",
      "12/12 [==============================] - 0s 16ms/step - loss: 0.0892 - accuracy: 0.9753 - val_loss: 0.1610 - val_accuracy: 0.9341\n",
      "Epoch 36/100\n",
      "12/12 [==============================] - 0s 7ms/step - loss: 0.0842 - accuracy: 0.9698 - val_loss: 0.1542 - val_accuracy: 0.9341\n",
      "Epoch 37/100\n",
      "12/12 [==============================] - 0s 7ms/step - loss: 0.0842 - accuracy: 0.9725 - val_loss: 0.1567 - val_accuracy: 0.9341\n",
      "Epoch 38/100\n",
      "12/12 [==============================] - 0s 7ms/step - loss: 0.0819 - accuracy: 0.9725 - val_loss: 0.1647 - val_accuracy: 0.9341\n",
      "Epoch 39/100\n",
      "12/12 [==============================] - 0s 7ms/step - loss: 0.0786 - accuracy: 0.9725 - val_loss: 0.1540 - val_accuracy: 0.9341\n",
      "Epoch 40/100\n",
      "12/12 [==============================] - 0s 7ms/step - loss: 0.0779 - accuracy: 0.9753 - val_loss: 0.1525 - val_accuracy: 0.9341\n",
      "Epoch 41/100\n",
      "12/12 [==============================] - 0s 7ms/step - loss: 0.0798 - accuracy: 0.9725 - val_loss: 0.1511 - val_accuracy: 0.9341\n",
      "Epoch 42/100\n",
      "12/12 [==============================] - 0s 7ms/step - loss: 0.0796 - accuracy: 0.9808 - val_loss: 0.1564 - val_accuracy: 0.9341\n",
      "Epoch 43/100\n",
      "12/12 [==============================] - 0s 7ms/step - loss: 0.0776 - accuracy: 0.9725 - val_loss: 0.1428 - val_accuracy: 0.9341\n",
      "Epoch 44/100\n",
      "12/12 [==============================] - 0s 7ms/step - loss: 0.0756 - accuracy: 0.9753 - val_loss: 0.1511 - val_accuracy: 0.9341\n",
      "Epoch 45/100\n",
      "12/12 [==============================] - 0s 7ms/step - loss: 0.0755 - accuracy: 0.9753 - val_loss: 0.1535 - val_accuracy: 0.9341\n",
      "Epoch 46/100\n",
      "12/12 [==============================] - 0s 6ms/step - loss: 0.0754 - accuracy: 0.9753 - val_loss: 0.1436 - val_accuracy: 0.9341\n",
      "Epoch 47/100\n",
      "12/12 [==============================] - 0s 7ms/step - loss: 0.0728 - accuracy: 0.9753 - val_loss: 0.1538 - val_accuracy: 0.9341\n",
      "Epoch 48/100\n",
      "12/12 [==============================] - 0s 8ms/step - loss: 0.0706 - accuracy: 0.9753 - val_loss: 0.1575 - val_accuracy: 0.9341\n",
      "Epoch 49/100\n",
      "12/12 [==============================] - 0s 6ms/step - loss: 0.0694 - accuracy: 0.9753 - val_loss: 0.1347 - val_accuracy: 0.9341\n",
      "Epoch 50/100\n",
      "12/12 [==============================] - 0s 7ms/step - loss: 0.0713 - accuracy: 0.9753 - val_loss: 0.1597 - val_accuracy: 0.9341\n",
      "Epoch 51/100\n",
      "12/12 [==============================] - 0s 7ms/step - loss: 0.0676 - accuracy: 0.9753 - val_loss: 0.1472 - val_accuracy: 0.9341\n",
      "Epoch 52/100\n",
      "12/12 [==============================] - 0s 7ms/step - loss: 0.0670 - accuracy: 0.9753 - val_loss: 0.1473 - val_accuracy: 0.9341\n",
      "Epoch 53/100\n",
      "12/12 [==============================] - 0s 7ms/step - loss: 0.0666 - accuracy: 0.9808 - val_loss: 0.1415 - val_accuracy: 0.9341\n",
      "Epoch 54/100\n",
      "12/12 [==============================] - 0s 6ms/step - loss: 0.0644 - accuracy: 0.9753 - val_loss: 0.1470 - val_accuracy: 0.9341\n",
      "Epoch 55/100\n",
      "12/12 [==============================] - 0s 6ms/step - loss: 0.0649 - accuracy: 0.9780 - val_loss: 0.1441 - val_accuracy: 0.9341\n",
      "Epoch 56/100\n",
      "12/12 [==============================] - 0s 6ms/step - loss: 0.0626 - accuracy: 0.9753 - val_loss: 0.1544 - val_accuracy: 0.9341\n",
      "Epoch 57/100\n",
      "12/12 [==============================] - 0s 8ms/step - loss: 0.0645 - accuracy: 0.9808 - val_loss: 0.1258 - val_accuracy: 0.9560\n",
      "Epoch 58/100\n",
      "12/12 [==============================] - 0s 10ms/step - loss: 0.0627 - accuracy: 0.9808 - val_loss: 0.1541 - val_accuracy: 0.9341\n",
      "Epoch 59/100\n",
      "12/12 [==============================] - 0s 7ms/step - loss: 0.0617 - accuracy: 0.9780 - val_loss: 0.1422 - val_accuracy: 0.9341\n",
      "Epoch 60/100\n",
      "12/12 [==============================] - 0s 7ms/step - loss: 0.0627 - accuracy: 0.9808 - val_loss: 0.1227 - val_accuracy: 0.9560\n",
      "Epoch 61/100\n",
      "12/12 [==============================] - 0s 9ms/step - loss: 0.0613 - accuracy: 0.9835 - val_loss: 0.1482 - val_accuracy: 0.9341\n",
      "Epoch 62/100\n",
      "12/12 [==============================] - 0s 7ms/step - loss: 0.0599 - accuracy: 0.9780 - val_loss: 0.1494 - val_accuracy: 0.9341\n",
      "Epoch 63/100\n",
      "12/12 [==============================] - 0s 7ms/step - loss: 0.0609 - accuracy: 0.9808 - val_loss: 0.1304 - val_accuracy: 0.9341\n",
      "Epoch 64/100\n",
      "12/12 [==============================] - 0s 7ms/step - loss: 0.0624 - accuracy: 0.9780 - val_loss: 0.1378 - val_accuracy: 0.9341\n",
      "Epoch 65/100\n",
      "12/12 [==============================] - 0s 7ms/step - loss: 0.0603 - accuracy: 0.9753 - val_loss: 0.1373 - val_accuracy: 0.9341\n",
      "Epoch 66/100\n",
      "12/12 [==============================] - 0s 6ms/step - loss: 0.0603 - accuracy: 0.9863 - val_loss: 0.1434 - val_accuracy: 0.9341\n",
      "Epoch 67/100\n",
      "12/12 [==============================] - 0s 7ms/step - loss: 0.0627 - accuracy: 0.9725 - val_loss: 0.1194 - val_accuracy: 0.9560\n",
      "Epoch 68/100\n",
      "12/12 [==============================] - 0s 7ms/step - loss: 0.0611 - accuracy: 0.9863 - val_loss: 0.1541 - val_accuracy: 0.9341\n",
      "Epoch 69/100\n",
      "12/12 [==============================] - 0s 7ms/step - loss: 0.0587 - accuracy: 0.9808 - val_loss: 0.1367 - val_accuracy: 0.9341\n",
      "Epoch 70/100\n",
      "12/12 [==============================] - 0s 6ms/step - loss: 0.0593 - accuracy: 0.9808 - val_loss: 0.1472 - val_accuracy: 0.9341\n",
      "Epoch 71/100\n",
      "12/12 [==============================] - 0s 6ms/step - loss: 0.0559 - accuracy: 0.9808 - val_loss: 0.1389 - val_accuracy: 0.9341\n",
      "Epoch 72/100\n",
      "12/12 [==============================] - 0s 7ms/step - loss: 0.0547 - accuracy: 0.9835 - val_loss: 0.1293 - val_accuracy: 0.9341\n",
      "Epoch 73/100\n",
      "12/12 [==============================] - 0s 7ms/step - loss: 0.0558 - accuracy: 0.9863 - val_loss: 0.1489 - val_accuracy: 0.9341\n",
      "Epoch 74/100\n",
      "12/12 [==============================] - 0s 7ms/step - loss: 0.0554 - accuracy: 0.9835 - val_loss: 0.1355 - val_accuracy: 0.9341\n",
      "Epoch 75/100\n",
      "12/12 [==============================] - 0s 8ms/step - loss: 0.0538 - accuracy: 0.9808 - val_loss: 0.1469 - val_accuracy: 0.9341\n",
      "Epoch 76/100\n",
      "12/12 [==============================] - 0s 9ms/step - loss: 0.0529 - accuracy: 0.9863 - val_loss: 0.1232 - val_accuracy: 0.9560\n",
      "Epoch 77/100\n",
      "12/12 [==============================] - 0s 8ms/step - loss: 0.0538 - accuracy: 0.9863 - val_loss: 0.1520 - val_accuracy: 0.9341\n",
      "Epoch 78/100\n",
      "12/12 [==============================] - 0s 7ms/step - loss: 0.0563 - accuracy: 0.9780 - val_loss: 0.1284 - val_accuracy: 0.9341\n",
      "Epoch 79/100\n",
      "12/12 [==============================] - 0s 8ms/step - loss: 0.0616 - accuracy: 0.9808 - val_loss: 0.1451 - val_accuracy: 0.9341\n",
      "Epoch 80/100\n",
      "12/12 [==============================] - 0s 7ms/step - loss: 0.0614 - accuracy: 0.9808 - val_loss: 0.1296 - val_accuracy: 0.9341\n",
      "Epoch 81/100\n",
      "12/12 [==============================] - 0s 7ms/step - loss: 0.0642 - accuracy: 0.9808 - val_loss: 0.1527 - val_accuracy: 0.9341\n",
      "Epoch 82/100\n",
      "12/12 [==============================] - 0s 7ms/step - loss: 0.0537 - accuracy: 0.9835 - val_loss: 0.1496 - val_accuracy: 0.9341\n",
      "Epoch 83/100\n",
      "12/12 [==============================] - 0s 8ms/step - loss: 0.0516 - accuracy: 0.9863 - val_loss: 0.1433 - val_accuracy: 0.9341\n",
      "Epoch 84/100\n",
      "12/12 [==============================] - 0s 16ms/step - loss: 0.0523 - accuracy: 0.9835 - val_loss: 0.1323 - val_accuracy: 0.9341\n",
      "Epoch 85/100\n",
      "12/12 [==============================] - 0s 6ms/step - loss: 0.0507 - accuracy: 0.9808 - val_loss: 0.1491 - val_accuracy: 0.9341\n",
      "Epoch 86/100\n",
      "12/12 [==============================] - 0s 7ms/step - loss: 0.0515 - accuracy: 0.9863 - val_loss: 0.1354 - val_accuracy: 0.9341\n",
      "Epoch 87/100\n",
      "12/12 [==============================] - 0s 7ms/step - loss: 0.0537 - accuracy: 0.9808 - val_loss: 0.1482 - val_accuracy: 0.9341\n",
      "Epoch 88/100\n",
      "12/12 [==============================] - 0s 7ms/step - loss: 0.0580 - accuracy: 0.9808 - val_loss: 0.1241 - val_accuracy: 0.9560\n",
      "Epoch 89/100\n",
      "12/12 [==============================] - 0s 7ms/step - loss: 0.0576 - accuracy: 0.9808 - val_loss: 0.1647 - val_accuracy: 0.9341\n",
      "Epoch 90/100\n",
      "12/12 [==============================] - 0s 6ms/step - loss: 0.0509 - accuracy: 0.9808 - val_loss: 0.1093 - val_accuracy: 0.9670\n",
      "Epoch 91/100\n",
      "12/12 [==============================] - 0s 7ms/step - loss: 0.0489 - accuracy: 0.9863 - val_loss: 0.1767 - val_accuracy: 0.9341\n",
      "Epoch 92/100\n",
      "12/12 [==============================] - 0s 7ms/step - loss: 0.0496 - accuracy: 0.9808 - val_loss: 0.1246 - val_accuracy: 0.9451\n",
      "Epoch 93/100\n",
      "12/12 [==============================] - 0s 7ms/step - loss: 0.0495 - accuracy: 0.9863 - val_loss: 0.1340 - val_accuracy: 0.9341\n",
      "Epoch 94/100\n",
      "12/12 [==============================] - 0s 7ms/step - loss: 0.0478 - accuracy: 0.9863 - val_loss: 0.1558 - val_accuracy: 0.9341\n",
      "Epoch 95/100\n",
      "12/12 [==============================] - 0s 6ms/step - loss: 0.0494 - accuracy: 0.9808 - val_loss: 0.1262 - val_accuracy: 0.9560\n",
      "Epoch 96/100\n",
      "12/12 [==============================] - 0s 7ms/step - loss: 0.0482 - accuracy: 0.9863 - val_loss: 0.1518 - val_accuracy: 0.9341\n",
      "Epoch 97/100\n",
      "12/12 [==============================] - 0s 7ms/step - loss: 0.0501 - accuracy: 0.9863 - val_loss: 0.1724 - val_accuracy: 0.9341\n",
      "Epoch 98/100\n",
      "12/12 [==============================] - 0s 10ms/step - loss: 0.0510 - accuracy: 0.9835 - val_loss: 0.1168 - val_accuracy: 0.9670\n",
      "Epoch 99/100\n",
      "12/12 [==============================] - 0s 7ms/step - loss: 0.0493 - accuracy: 0.9863 - val_loss: 0.1411 - val_accuracy: 0.9341\n",
      "Epoch 100/100\n",
      "12/12 [==============================] - 0s 7ms/step - loss: 0.0468 - accuracy: 0.9863 - val_loss: 0.1567 - val_accuracy: 0.9341\n"
     ]
    }
   ],
   "source": [
    "history = model.fit(X_train, y_train, epochs=100, validation_split=0.2)\n"
   ]
  },
  {
   "cell_type": "markdown",
   "id": "6f1c4f92",
   "metadata": {
    "papermill": {
     "duration": 0.037486,
     "end_time": "2024-02-24T20:47:44.906639",
     "exception": false,
     "start_time": "2024-02-24T20:47:44.869153",
     "status": "completed"
    },
    "tags": []
   },
   "source": [
    "# Accuracy "
   ]
  },
  {
   "cell_type": "code",
   "execution_count": 33,
   "id": "75b3a8c9",
   "metadata": {
    "execution": {
     "iopub.execute_input": "2024-02-24T20:47:44.984596Z",
     "iopub.status.busy": "2024-02-24T20:47:44.983165Z",
     "iopub.status.idle": "2024-02-24T20:47:45.735417Z",
     "shell.execute_reply": "2024-02-24T20:47:45.733981Z"
    },
    "papermill": {
     "duration": 0.794024,
     "end_time": "2024-02-24T20:47:45.738261",
     "exception": false,
     "start_time": "2024-02-24T20:47:44.944237",
     "status": "completed"
    },
    "tags": []
   },
   "outputs": [
    {
     "data": {
      "image/png": "[encoded data removed]",
      "text/plain": [
       "<Figure size 2000x800 with 2 Axes>"
      ]
     },
     "metadata": {},
     "output_type": "display_data"
    }
   ],
   "source": [
    "tr_acc = history.history['accuracy']\n",
    "tr_loss = history.history['loss']\n",
    "val_acc = history.history['val_accuracy']\n",
    "val_loss = history.history['val_loss']\n",
    "\n",
    "epochs = [i+1 for i in range(len(tr_acc))]\n",
    "\n",
    "plt.figure(figsize=(20, 8))\n",
    "plt.subplot(1, 2, 1)\n",
    "plt.plot(epochs, tr_loss, 'r', label='Train Loss')\n",
    "plt.plot(epochs, val_loss, 'g', label='Valid Loss')\n",
    "plt.title('Loss')\n",
    "plt.legend()\n",
    "plt.xlabel('Epochs')\n",
    "plt.ylabel('Loss')\n",
    "\n",
    "plt.subplot(1, 2, 2)\n",
    "plt.plot(epochs, tr_acc, 'r', label='Train Accuracy')\n",
    "plt.plot(epochs, val_acc, 'g', label='Valid Accuracy')\n",
    "plt.title('Accuracy')\n",
    "plt.legend()\n",
    "plt.xlabel('Epochs')\n",
    "plt.ylabel('Accuracy')\n",
    "\n",
    "plt.tight_layout()\n",
    "plt.show()"
   ]
  },
  {
   "cell_type": "code",
   "execution_count": 34,
   "id": "b7fe6c01",
   "metadata": {
    "execution": {
     "iopub.execute_input": "2024-02-24T20:47:45.818178Z",
     "iopub.status.busy": "2024-02-24T20:47:45.817780Z",
     "iopub.status.idle": "2024-02-24T20:47:46.004617Z",
     "shell.execute_reply": "2024-02-24T20:47:46.002684Z"
    },
    "papermill": {
     "duration": 0.230853,
     "end_time": "2024-02-24T20:47:46.007740",
     "exception": false,
     "start_time": "2024-02-24T20:47:45.776887",
     "status": "completed"
    },
    "tags": []
   },
   "outputs": [
    {
     "name": "stdout",
     "output_type": "stream",
     "text": [
      "4/4 [==============================] - 0s 715us/step\n"
     ]
    }
   ],
   "source": [
    "y_pred = model.predict(X_test)\n",
    "y_pred = (y_pred > 0.5)"
   ]
  },
  {
   "cell_type": "code",
   "execution_count": 35,
   "id": "a224772e",
   "metadata": {
    "execution": {
     "iopub.execute_input": "2024-02-24T20:47:46.090557Z",
     "iopub.status.busy": "2024-02-24T20:47:46.090079Z",
     "iopub.status.idle": "2024-02-24T20:47:46.327209Z",
     "shell.execute_reply": "2024-02-24T20:47:46.325722Z"
    },
    "papermill": {
     "duration": 0.282311,
     "end_time": "2024-02-24T20:47:46.330086",
     "exception": false,
     "start_time": "2024-02-24T20:47:46.047775",
     "status": "completed"
    },
    "tags": []
   },
   "outputs": [
    {
     "data": {
      "image/png": "[encoded data removed]",
      "text/plain": [
       "<Figure size 640x480 with 2 Axes>"
      ]
     },
     "metadata": {},
     "output_type": "display_data"
    }
   ],
   "source": [
    "cm = confusion_matrix(y_test,y_pred)\n",
    "sns.heatmap(cm, annot=True)\n",
    "plt.show()"
   ]
  },
  {
   "cell_type": "code",
   "execution_count": null,
   "id": "f08e9395",
   "metadata": {
    "papermill": {
     "duration": 0.040273,
     "end_time": "2024-02-24T20:47:46.410251",
     "exception": false,
     "start_time": "2024-02-24T20:47:46.369978",
     "status": "completed"
    },
    "tags": []
   },
   "outputs": [],
   "source": []
  }
 ],
 "metadata": {
  "kaggle": {
   "accelerator": "none",
   "dataSources": [
    {
     "datasetId": 180,
     "sourceId": 408,
     "sourceType": "datasetVersion"
    }
   ],
   "dockerImageVersionId": 30646,
   "isGpuEnabled": false,
   "isInternetEnabled": true,
   "language": "python",
   "sourceType": "notebook"
  },
  "kernelspec": {
   "display_name": "Python 3",
   "language": "python",
   "name": "python3"
  },
  "language_info": {
   "codemirror_mode": {
    "name": "ipython",
    "version": 3
   },
   "file_extension": ".py",
   "mimetype": "text/x-python",
   "name": "python",
   "nbconvert_exporter": "python",
   "pygments_lexer": "ipython3",
   "version": "3.11.8"
  },
  "papermill": {
   "default_parameters": {},
   "duration": 38.242976,
   "end_time": "2024-02-24T20:47:49.079638",
   "environment_variables": {},
   "exception": null,
   "input_path": "__notebook__.ipynb",
   "output_path": "__notebook__.ipynb",
   "parameters": {},
   "start_time": "2024-02-24T20:47:10.836662",
   "version": "2.5.0"
  }
 },
 "nbformat": 4,
 "nbformat_minor": 5
}
